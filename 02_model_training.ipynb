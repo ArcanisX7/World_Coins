{
 "cells": [
  {
   "cell_type": "markdown",
   "metadata": {},
   "source": [
    "World Coins: A collection of coin images from 32 different currencies."
   ]
  },
  {
   "cell_type": "code",
   "execution_count": null,
   "metadata": {},
   "outputs": [],
   "source": [
    "# Seznam knihoven\n",
    "import os\n",
    "from tensorflow.keras.applications import ResNet50, EfficientNetB3, MobileNetV3Large\n",
    "from tensorflow.keras.models import Model\n",
    "from tensorflow.keras.layers import Dense, Dropout, GlobalAveragePooling2D\n",
    "from tensorflow.keras.preprocessing.image import ImageDataGenerator\n",
    "from tensorflow.keras.optimizers import Adam\n",
    "from tensorflow.keras.callbacks import EarlyStopping, ModelCheckpoint, ReduceLROnPlateau, CSVLogger\n",
    "from tensorflow.keras.applications.resnet50 import preprocess_input as preprocess_resnet\n",
    "from tensorflow.keras.applications.efficientnet import preprocess_input as preprocess_efficientnet\n",
    "from tensorflow.keras.applications.mobilenet_v3 import preprocess_input as preprocess_mobilenet"
   ]
  },
  {
   "cell_type": "code",
   "execution_count": null,
   "metadata": {},
   "outputs": [],
   "source": [
    "# Napojení dat a vytvoření cesty\n",
    "data_dir_train = \"data/coins/data/train/\"\n",
    "data_dir_val = \"data/coins/data/validation/\"\n",
    "log_dir = \"drive/MyDrivedata/data/logs/\"\n",
    "model_dir = \"drive/MyDrivedata/data/models/\""
   ]
  },
  {
   "cell_type": "code",
   "execution_count": null,
   "metadata": {},
   "outputs": [],
   "source": [
    "IMAGE_SIZE = (224, 224)\n",
    "BATCH_SIZE = 32\n",
    "NUM_CLASSES = 211\n",
    "EPOCHS = 50"
   ]
  },
  {
   "cell_type": "code",
   "execution_count": null,
   "metadata": {},
   "outputs": [],
   "source": [
    "# Vytvoření složek, pokud neexistují\n",
    "os.makedirs(log_dir, exist_ok=True)\n",
    "os.makedirs(model_dir, exist_ok=True)"
   ]
  },
  {
   "cell_type": "markdown",
   "metadata": {},
   "source": [
    "Model ResNet50"
   ]
  },
  {
   "cell_type": "code",
   "execution_count": 24,
   "metadata": {},
   "outputs": [
    {
     "name": "stdout",
     "output_type": "stream",
     "text": [
      "Found 6174 images belonging to 211 classes.\n",
      "Found 844 images belonging to 211 classes.\n"
     ]
    }
   ],
   "source": [
    "# ImageDataGenerator s odpovídajícím předzpracováním pro ResNet50\n",
    "train_datagen_resnet = ImageDataGenerator(\n",
    "    preprocessing_function=preprocess_resnet,\n",
    "    rotation_range=30,\n",
    "    width_shift_range=0.2,\n",
    "    height_shift_range=0.2,\n",
    "    shear_range=0.2,\n",
    "    zoom_range=0.2,\n",
    "    horizontal_flip=True,\n",
    "    vertical_flip=True,\n",
    "    brightness_range=[0.8, 1.2],  # Lehké změny jasu\n",
    "    channel_shift_range=20.0) # Malé změny barev\n",
    "\n",
    "val_datagen_resnet = ImageDataGenerator(preprocessing_function=preprocess_resnet)\n",
    "\n",
    "# Načtení datasetu\n",
    "train_generator_resnet = train_datagen_resnet.flow_from_directory(\n",
    "    data_dir_train,\n",
    "    target_size=IMAGE_SIZE,\n",
    "    batch_size=BATCH_SIZE,\n",
    "    class_mode='categorical')\n",
    "\n",
    "val_generator_resnet = val_datagen_resnet.flow_from_directory(\n",
    "    data_dir_val,\n",
    "    target_size=IMAGE_SIZE,\n",
    "    batch_size=BATCH_SIZE,\n",
    "    class_mode='categorical')\n",
    "\n",
    "# Nastavení steps_per_epoch\n",
    "steps_per_epoch = len(train_generator_resnet)\n",
    "validation_steps = max(len(val_generator_resnet), 1)"
   ]
  },
  {
   "cell_type": "code",
   "execution_count": null,
   "metadata": {},
   "outputs": [],
   "source": [
    "# Načtení předtrénovaného modelu ResNet50\n",
    "base_model = ResNet50(weights='imagenet', include_top=False, input_shape=(224, 224, 3))\n",
    "base_model.trainable = False\n",
    "\n",
    "# Přidání nových vrstev\n",
    "x = GlobalAveragePooling2D()(base_model.output)\n",
    "x = Dense(512, activation='relu', kernel_regularizer=l2(1e-5))(x)\n",
    "x = Dropout(0.3)(x)\n",
    "x = Dense(NUM_CLASSES, activation='softmax')(x)\n",
    "\n",
    "# Vytvoření modelu\n",
    "model = Model(inputs=base_model.input, outputs=x)\n",
    "\n",
    "# Kompilace modelu\n",
    "model.compile(optimizer=Adam(learning_rate=0.0001), loss='categorical_crossentropy', metrics=['accuracy'])\n",
    "\n",
    "# Callbacks\n",
    "early_stopping = EarlyStopping(monitor='val_loss', patience=5, restore_best_weights=True)\n",
    "model_checkpoint = ModelCheckpoint(os.path.join(model_dir, \"best_ResNet50.keras\"), save_best_only=True, monitor='val_accuracy', mode='max')\n",
    "reduce_lr = ReduceLROnPlateau(monitor='val_loss', factor=0.5, patience=3, min_lr=1e-7)\n",
    "log_file = os.path.join(log_dir, \"ResNet50.csv\")\n",
    "csv_logger = CSVLogger(log_file, append=True)\n",
    "\n",
    "# Trénování modelu\n",
    "history = model.fit(\n",
    "    train_generator_resnet,\n",
    "    validation_data=val_generator_resnet,\n",
    "    epochs=EPOCHS,\n",
    "    steps_per_epoch=steps_per_epoch,\n",
    "    validation_steps=validation_steps,\n",
    "    callbacks=[early_stopping, model_checkpoint, reduce_lr, csv_logger]\n",
    ")"
   ]
  },
  {
   "cell_type": "code",
   "execution_count": null,
   "metadata": {},
   "outputs": [],
   "source": [
    "# Postupné rozmrznutí některých vrstev pro doladění\n",
    "base_model.trainable = True\n",
    "for layer in base_model.layers[:50]:\n",
    "    layer.trainable = False\n",
    "\n",
    "# Rekompilace\n",
    "model.compile(optimizer=Adam(learning_rate=3e-6), loss='categorical_crossentropy', metrics=['accuracy'])\n",
    "\n",
    "# Další fáze trénování\n",
    "history_fine = model.fit(\n",
    "    train_generator_resnet,\n",
    "    validation_data=val_generator_resnet,\n",
    "    epochs=10,\n",
    "    steps_per_epoch=steps_per_epoch,\n",
    "    validation_steps=validation_steps,\n",
    "    callbacks=[early_stopping, model_checkpoint, reduce_lr,csv_logger])\n",
    "\n",
    "# Uložení modelu\n",
    "best_model_path = os.path.join(model_dir, \"best_ResNet50.keras\")\n",
    "if os.path.exists(best_model_path):\n",
    "    model.save(best_model_path)"
   ]
  },
  {
   "cell_type": "markdown",
   "metadata": {},
   "source": [
    "Model EfficientNetB3"
   ]
  },
  {
   "cell_type": "code",
   "execution_count": null,
   "metadata": {},
   "outputs": [
    {
     "name": "stdout",
     "output_type": "stream",
     "text": [
      "Found 6174 images belonging to 211 classes.\n",
      "Found 844 images belonging to 211 classes.\n"
     ]
    }
   ],
   "source": [
    "train_datagen_efficientnet = ImageDataGenerator(\n",
    "    preprocessing_function=preprocess_efficientnet,\n",
    "    rotation_range=15,\n",
    "    width_shift_range=0.1,\n",
    "    height_shift_range=0.1,\n",
    "    shear_range=0.1,\n",
    "    zoom_range=0.15,\n",
    "    horizontal_flip=True,\n",
    "    vertical_flip=False,\n",
    "    brightness_range=[0.9, 1.1])  # Lehké změny jasu\n",
    "\n",
    "val_datagen_efficientnet = ImageDataGenerator(preprocessing_function=preprocess_efficientnet)\n",
    "\n",
    "train_generator_efficientnet = train_datagen_efficientnet.flow_from_directory(\n",
    "    data_dir_train,\n",
    "    target_size=IMAGE_SIZE,\n",
    "    batch_size=BATCH_SIZE,\n",
    "    class_mode='categorical')\n",
    "\n",
    "val_generator_efficientnet = val_datagen_efficientnet.flow_from_directory(\n",
    "    data_dir_val,\n",
    "    target_size=IMAGE_SIZE,\n",
    "    batch_size=BATCH_SIZE,\n",
    "    class_mode='categorical')\n",
    "\n",
    "# Nastavení steps_per_epoch\n",
    "steps_per_epoch = len(train_generator_efficientnet)\n",
    "validation_steps = max(len(val_generator_efficientnet), 1)"
   ]
  },
  {
   "cell_type": "code",
   "execution_count": null,
   "metadata": {},
   "outputs": [],
   "source": [
    "# Načtení předtrénovaného modelu EfficientNetB3\n",
    "base_model = EfficientNetB3(weights='imagenet', include_top=False, input_shape=(224, 224, 3))\n",
    "base_model.trainable = False  # Zmrazení základního modelu\n",
    "\n",
    "# Přidání nových vrstev\n",
    "x = GlobalAveragePooling2D()(base_model.output)\n",
    "x = Dense(512, activation='swish',kernel_regularizer=l2(1e-5))(x)\n",
    "x = Dropout(0.3)(x)\n",
    "x = Dense(NUM_CLASSES, activation='softmax')(x)\n",
    "\n",
    "# Vytvoření modelu\n",
    "model = Model(inputs=base_model.input, outputs=x)\n",
    "\n",
    "# Kompilace modelu\n",
    "model.compile(optimizer=Adam(learning_rate=0.0001), loss='categorical_crossentropy', metrics=['accuracy'])\n",
    "\n",
    "# Callbacks\n",
    "early_stopping = EarlyStopping(monitor='val_loss', patience=5, restore_best_weights=True)\n",
    "model_checkpoint = ModelCheckpoint(\"best_EfficientNetB3.keras\", save_best_only=True, monitor='val_accuracy', mode='max')\n",
    "reduce_lr = ReduceLROnPlateau(monitor='val_loss', factor=0.5, patience=3, min_lr=1e-7)\n",
    "log_file = os.path.join(log_dir, \"EfficientNetB3.csv\")\n",
    "csv_logger = CSVLogger(log_file, append=True)\n",
    "\n",
    "# Trénování modelu\n",
    "history = model.fit(\n",
    "    train_generator_efficientnet,\n",
    "    validation_data=val_generator_efficientnet,\n",
    "    epochs=EPOCHS,\n",
    "    steps_per_epoch=steps_per_epoch,\n",
    "    validation_steps=validation_steps,\n",
    "    callbacks=[early_stopping, model_checkpoint, reduce_lr, csv_logger]\n",
    ")\n",
    "\n",
    "# Uložení modelu\n",
    "model.save(\"final_efficientnetb3.keras\")\n"
   ]
  },
  {
   "cell_type": "code",
   "execution_count": null,
   "metadata": {},
   "outputs": [],
   "source": [
    "# Postupné rozmrznutí některých vrstev pro doladění\n",
    "base_model.trainable = True\n",
    "for layer in base_model.layers[:100]:\n",
    "    layer.trainable = False\n",
    "\n",
    "# Rekompilace s nižší learning rate\n",
    "model.compile(optimizer=Adam(learning_rate=5e-6), loss='categorical_crossentropy', metrics=['accuracy'])\n",
    "\n",
    "# Další fáze trénování\n",
    "history_fine = model.fit(\n",
    "    train_generator_efficientnet,\n",
    "    validation_data=val_generator_efficientnet,\n",
    "    epochs=10,\n",
    "    steps_per_epoch=steps_per_epoch,\n",
    "    validation_steps=validation_steps,\n",
    "    callbacks=[early_stopping, model_checkpoint, reduce_lr, csv_logger]\n",
    ")\n",
    "\n",
    "# Uložení finálního doladěného modelu\n",
    "model.save(os.path.join(model_dir, \"final_tuned_efficientnetb3.keras\"))\n"
   ]
  },
  {
   "cell_type": "markdown",
   "metadata": {},
   "source": [
    "Model MobileNetV3"
   ]
  },
  {
   "cell_type": "code",
   "execution_count": null,
   "metadata": {},
   "outputs": [
    {
     "name": "stdout",
     "output_type": "stream",
     "text": [
      "Found 6174 images belonging to 211 classes.\n",
      "Found 844 images belonging to 211 classes.\n"
     ]
    }
   ],
   "source": [
    "train_datagen_mobilenet = ImageDataGenerator(\n",
    "    preprocessing_function=preprocess_mobilenet,\n",
    "    rotation_range=10,\n",
    "    width_shift_range=0.05,\n",
    "    height_shift_range=0.05,\n",
    "    shear_range=0.05,\n",
    "    zoom_range=0.1,\n",
    "    horizontal_flip=True,\n",
    "    vertical_flip=False,\n",
    "    brightness_range=[0.95, 1.05],  # Lehké změny jasu\n",
    "    channel_shift_range=10.0) # Malé změny barev\n",
    "\n",
    "val_datagen_mobilenet = ImageDataGenerator(preprocessing_function=preprocess_mobilenet)\n",
    "\n",
    "train_generator_mobilenet = train_datagen_mobilenet.flow_from_directory(\n",
    "    data_dir_train,\n",
    "    target_size=IMAGE_SIZE,\n",
    "    batch_size=BATCH_SIZE,\n",
    "    class_mode='categorical')\n",
    "\n",
    "val_generator_mobilenet = val_datagen_mobilenet.flow_from_directory(\n",
    "    data_dir_val,\n",
    "    target_size=IMAGE_SIZE,\n",
    "    batch_size=BATCH_SIZE,\n",
    "    class_mode='categorical')\n",
    "\n",
    "# Nastavení steps_per_epoch\n",
    "steps_per_epoch = len(train_generator_mobilenet)\n",
    "validation_steps = max(len(val_generator_mobilenet), 1)"
   ]
  },
  {
   "cell_type": "code",
   "execution_count": null,
   "metadata": {},
   "outputs": [],
   "source": [
    "# Načtení předtrénovaného modelu MobileNetV3\n",
    "base_model = MobileNetV3Large(weights='imagenet', include_top=False, input_shape=(224, 224, 3))\n",
    "base_model.trainable = False  # Zmrazení základního modelu\n",
    "\n",
    "# Přidání vlastních vrstev\n",
    "x = GlobalAveragePooling2D()(base_model.output)\n",
    "x = Dense(256, activation='hard_swish')(x)\n",
    "x = Dropout(0.4)(x)\n",
    "x = Dense(NUM_CLASSES, activation='softmax')(x)\n",
    "\n",
    "# Vytvoření modelu\n",
    "model = Model(inputs=base_model.input, outputs=x)\n",
    "\n",
    "# Kompilace modelu\n",
    "model.compile(optimizer=Adam(learning_rate=), loss='categorical_crossentropy', metrics=['accuracy'])\n",
    "\n",
    "# Callbacks\n",
    "early_stopping = EarlyStopping(monitor='val_loss', patience=5, restore_best_weights=True)\n",
    "model_checkpoint = ModelCheckpoint(\"best_MobileNetV3.keras\", save_best_only=True, monitor='val_accuracy', mode='max')\n",
    "reduce_lr = ReduceLROnPlateau(monitor='val_loss', factor=0.5, patience=3, min_lr=1e-7)\n",
    "log_file = os.path.join(log_dir, \"MobileNetV3_log.csv\")\n",
    "csv_logger = CSVLogger(log_file, append=True)\n",
    "\n",
    "# Trénování modelu\n",
    "history = model.fit(\n",
    "    train_generator_mobilenet,\n",
    "    validation_data=val_generator_mobilenet,\n",
    "    epochs=EPOCHS,\n",
    "    steps_per_epoch=steps_per_epoch,\n",
    "    validation_steps=validation_steps,\n",
    "    callbacks=[early_stopping, model_checkpoint, reduce_lr, csv_logger]\n",
    ")\n",
    "\n",
    "# Uložení modelu\n",
    "model.save(\"final_MobileNetV3.keras\")"
   ]
  },
  {
   "cell_type": "code",
   "execution_count": null,
   "metadata": {},
   "outputs": [],
   "source": [
    "# Postupné rozmrznutí některých vrstev pro doladění\n",
    "base_model.trainable = True\n",
    "for layer in base_model.layers[:200]:\n",
    "    layer.trainable = False\n",
    "\n",
    "# Rekompilace s nižší learning rate\n",
    "model.compile(optimizer=Adam(learning_rate=7e-6), loss='categorical_crossentropy', metrics=['accuracy'])\n",
    "\n",
    "# Další fáze trénování\n",
    "history_fine = model.fit(\n",
    "    train_generator_mobilenet,\n",
    "    validation_data=val_generator_mobilenet,\n",
    "    epochs=10,\n",
    "    steps_per_epoch=steps_per_epoch,\n",
    "    validation_steps=validation_steps,\n",
    "    callbacks=[early_stopping, model_checkpoint, reduce_lr, csv_logger]\n",
    ")\n",
    "\n",
    "# Uložení finálního doladěného modelu\n",
    "model.save(os.path.join(model_dir, \"fine_tuned_mobilenetv3_model.keras\"))"
   ]
  }
 ],
 "metadata": {
  "kernelspec": {
   "display_name": ".venv",
   "language": "python",
   "name": "python3"
  },
  "language_info": {
   "codemirror_mode": {
    "name": "ipython",
    "version": 3
   },
   "file_extension": ".py",
   "mimetype": "text/x-python",
   "name": "python",
   "nbconvert_exporter": "python",
   "pygments_lexer": "ipython3",
   "version": "3.12.4"
  }
 },
 "nbformat": 4,
 "nbformat_minor": 2
}
