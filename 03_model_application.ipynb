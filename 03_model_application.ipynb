{
 "cells": [
  {
   "cell_type": "markdown",
   "metadata": {},
   "source": [
    "World Coins: A collection of coin images from 32 different currencies."
   ]
  },
  {
   "cell_type": "code",
   "execution_count": null,
   "metadata": {},
   "outputs": [],
   "source": [
    "# Seznam knihoven\n",
    "import tensorflow as tf\n",
    "import matplotlib.pyplot as plt\n",
    "import json\n",
    "import os\n",
    "import numpy as np\n",
    "import cv2\n",
    "import kaggle\n",
    "import random\n",
    "import concurrent.futures\n",
    "from sklearn.cluster import KMeans\n",
    "from sklearn.cluster import MiniBatchKMeans\n",
    "from tensorflow.keras.applications import MobileNetV2\n",
    "from tensorflow.keras.applications.mobilenet_v2 import preprocess_input\n",
    "from tensorflow.keras.preprocessing import image\n",
    "from tensorflow.keras.applications import ResNet50\n",
    "from tensorflow.keras.applications.resnet50 import preprocess_input\n",
    "from tensorflow.keras.models import Model\n",
    "from tensorflow.keras.layers import Dense, Flatten, Dropout, GlobalAveragePooling2D\n",
    "from tensorflow.keras.preprocessing.image import ImageDataGenerator\n",
    "from tensorflow.keras.optimizers import Adam\n",
    "from tensorflow.keras.callbacks import EarlyStopping, ModelCheckpoint"
   ]
  },
  {
   "cell_type": "code",
   "execution_count": null,
   "metadata": {},
   "outputs": [],
   "source": [
    "import os\n",
    "import random\n",
    "import json\n",
    "import numpy as np\n",
    "import pandas as pd\n",
    "from tensorflow.keras.preprocessing import image\n",
    "from tensorflow.keras.models import load_model\n",
    "\n",
    "# Cesty k datasetu\n",
    "data_dir_test = \"data/coins/data/test\"\n",
    "\n",
    "# Načtení mapy kategorií\n",
    "with open(\"/mnt/data/cat_to_name.json\", \"r\") as f:\n",
    "    cat_to_name = json.load(f)\n",
    "\n",
    "# Seznam všech tříd (složek)\n",
    "categories = os.listdir(data_dir_test)\n",
    "\n",
    "# Náhodný výběr 100 obrázků\n",
    "selected_images = []\n",
    "for _ in range(100):\n",
    "    category = random.choice(categories)\n",
    "    category_path = os.path.join(data_dir_test, category)\n",
    "    if os.path.isdir(category_path):\n",
    "        image_file = random.choice(os.listdir(category_path))\n",
    "        selected_images.append((os.path.join(category_path, image_file), category, image_file))\n",
    "\n",
    "# Načtení vlastního předtrénovaného modelu\n",
    "model = load_model(\"fine_tuned_resnet50_model.keras\")\n",
    "\n",
    "# Funkce pro klasifikaci obrázků\n",
    "def classify_image(img_path):\n",
    "    img = image.load_img(img_path, target_size=(224, 224))\n",
    "    img_array = image.img_to_array(img)\n",
    "    img_array = np.expand_dims(img_array, axis=0)\n",
    "    img_array = img_array / 255.0  # Normalizace\n",
    "    \n",
    "    preds = model.predict(img_array)\n",
    "    predicted_class = np.argmax(preds)\n",
    "    \n",
    "    return predicted_class\n",
    "\n",
    "# Klasifikace vybraných obrázků\n",
    "results = []\n",
    "for img_path, category, file_name in selected_images:\n",
    "    predicted_class = classify_image(img_path)\n",
    "    category_info = cat_to_name.get(str(predicted_class), \"Unknown,Unknown,Unknown\").split(\",\")\n",
    "    results.append([file_name, category, category_info[0], category_info[1], category_info[2]])\n",
    "\n",
    "# Vytvoření datového rámce\n",
    "columns = [\"Filename\", \"True Category\", \"Predicted Coin\", \"Currency\", \"Country\"]\n",
    "df_results = pd.DataFrame(results, columns=columns)\n",
    "\n",
    "# Zobrazení výsledků\n",
    "import ace_tools as tools\n",
    "tools.display_dataframe_to_user(name=\"Classification Results\", dataframe=df_results)"
   ]
  }
 ],
 "metadata": {
  "kernelspec": {
   "display_name": ".venv",
   "language": "python",
   "name": "python3"
  },
  "language_info": {
   "name": "python",
   "version": "3.11.9"
  }
 },
 "nbformat": 4,
 "nbformat_minor": 2
}
