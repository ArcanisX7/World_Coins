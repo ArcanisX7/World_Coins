{
 "cells": [
  {
   "cell_type": "markdown",
   "metadata": {},
   "source": [
    "World Coins\n",
    "A collection of coin images from 32 different currencies."
   ]
  },
  {
   "cell_type": "code",
   "execution_count": 24,
   "metadata": {},
   "outputs": [],
   "source": [
    "# Seznam knihoven\n",
    "import tensorflow as tf\n",
    "import matplotlib.pyplot as plt\n",
    "import json\n",
    "import os\n",
    "import numpy as np\n",
    "import cv2\n",
    "import kaggle\n",
    "from sklearn.cluster import KMeans\n",
    "from tensorflow.keras.applications import ResNet50\n",
    "from tensorflow.keras.applications.resnet50 import preprocess_input\n",
    "from tensorflow.keras.preprocessing import image"
   ]
  },
  {
   "cell_type": "code",
   "execution_count": null,
   "metadata": {},
   "outputs": [],
   "source": [
    "# Stažení dat z Kaggle přes API token\n",
    "kaggle.api.dataset_download_files('wanderdust/coin-images', path='./data', unzip=True)\n",
    "print(\"Dataset byl úspěšně stažen a rozbalen do složky ./data!\")"
   ]
  },
  {
   "cell_type": "code",
   "execution_count": 25,
   "metadata": {},
   "outputs": [
    {
     "name": "stdout",
     "output_type": "stream",
     "text": [
      "['cat_to_name.json', 'coins']\n",
      "True\n",
      "True\n",
      "True\n"
     ]
    }
   ],
   "source": [
    "# Napojení dat a vytvoření cesty\n",
    "data_dir_train = \"data/coins/data/train/\"\n",
    "data_dir_val = \"data/coins/data/validation/\"\n",
    "data_dir_test = \"data/coins/data/test/\"\n",
    "json_path = \"data/cat_to_name.json\"\n",
    "\n",
    "print(os.listdir(\"data/\"))\n",
    "print(os.path.exists(\"data/coins/data/train/\"))\n",
    "print(os.path.exists(\"data/coins/data/validation/\"))\n",
    "print(os.path.exists(\"data/coins/data/test/\"))"
   ]
  }
 ],
 "metadata": {
  "kernelspec": {
   "display_name": ".venv",
   "language": "python",
   "name": "python3"
  },
  "language_info": {
   "codemirror_mode": {
    "name": "ipython",
    "version": 3
   },
   "file_extension": ".py",
   "mimetype": "text/x-python",
   "name": "python",
   "nbconvert_exporter": "python",
   "pygments_lexer": "ipython3",
   "version": "3.11.9"
  }
 },
 "nbformat": 4,
 "nbformat_minor": 2
}
