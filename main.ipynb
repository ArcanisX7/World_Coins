{
 "cells": [
  {
   "cell_type": "markdown",
   "metadata": {},
   "source": [
    "World Coins\n",
    "A collection of coin images from 32 different currencies.\n",
    "\n",
    "https://www.kaggle.com/datasets/wanderdust/coin-images?resource=download"
   ]
  },
  {
   "cell_type": "code",
   "execution_count": 32,
   "metadata": {},
   "outputs": [],
   "source": [
    "# Seznam knihoven\n",
    "import os\n",
    "import json"
   ]
  },
  {
   "cell_type": "code",
   "execution_count": 30,
   "metadata": {},
   "outputs": [
    {
     "name": "stdout",
     "output_type": "stream",
     "text": [
      "True\n",
      "True\n",
      "True\n",
      "True\n",
      "['cat_to_name.json', 'test', 'train', 'validation']\n"
     ]
    }
   ],
   "source": [
    "# Napojení dat a vytvoření cesty\n",
    "data_train_path = 'data/train/'\n",
    "data_valid_path = 'data/validation/'\n",
    "data_test_path =  'data/test/'\n",
    "\n",
    "print(os.path.exists(\"data/\"))\n",
    "print(os.path.exists(\"data/train/\"))\n",
    "print(os.path.exists(\"data/validation/\"))\n",
    "print(os.path.exists(\"data/test/\"))\n",
    "print(os.listdir(\"data/\"))\n"
   ]
  },
  {
   "cell_type": "markdown",
   "metadata": {},
   "source": [
    "CAT TO NAME - Preprocesing"
   ]
  },
  {
   "cell_type": "code",
   "execution_count": null,
   "metadata": {},
   "outputs": [],
   "source": [
    "# Přejmenování souboru se strukturou dat\n",
    "os.rename('data/cat_to_name.json', 'data/cat_to_name_v1.json')"
   ]
  },
  {
   "cell_type": "code",
   "execution_count": 45,
   "metadata": {},
   "outputs": [
    {
     "name": "stdout",
     "output_type": "stream",
     "text": [
      "5 Forint,Hungarian Forint,hungary\n"
     ]
    }
   ],
   "source": [
    "with open('data/cat_to_name_v1.json', 'r') as json_file:\n",
    "    cat_to_name_v1 = json.load(json_file)\n",
    "\n",
    "print(cat_to_name_v1['69'])"
   ]
  },
  {
   "cell_type": "code",
   "execution_count": 55,
   "metadata": {},
   "outputs": [
    {
     "name": "stdout",
     "output_type": "stream",
     "text": [
      "{'1': {'value': '1 Cent', 'currency_name': 'Australian dollar', 'location': 'Australia'}, '2': {'value': '2 Cents', 'currency_name': 'Australian dollar', 'location': 'Australia'}, '3': {'value': '5 Cents', 'currency_name': 'Australian dollar', 'location': 'Australia'}, '4': {'value': '10 Cents', 'currency_name': 'Australian dollar', 'location': 'Australia'}, '5': {'value': '20 Cents', 'currency_name': 'Australian dollar', 'location': 'Australia'}, '6': {'value': '50 Cents', 'currency_name': 'Australian dollar', 'location': 'Australia'}, '7': {'value': '1 Dollar', 'currency_name': 'Australian dollar', 'location': 'Australia'}, '8': {'value': '2 Dollars', 'currency_name': 'Australian dollar', 'location': 'Australia'}, '9': {'value': '1 Centavo', 'currency_name': 'Brazilian Real', 'location': 'Brazil'}, '10': {'value': '5 Centavos', 'currency_name': 'Brazilian Real', 'location': 'Brazil'}, '11': {'value': '10 Centavos', 'currency_name': 'Brazilian Real', 'location': 'Brazil'}, '12': {'value': '25 Centavos', 'currency_name': 'Brazilian Real', 'location': 'Brazil'}, '13': {'value': '1 Real', 'currency_name': 'Brazilian Real', 'location': 'Brazil'}, '14': {'value': '1 Penny', 'currency_name': 'British Pound', 'location': 'United_kingdom'}, '15': {'value': '2 Pence', 'currency_name': 'British Pound', 'location': 'United_kingdom'}, '16': {'value': '5 Pence', 'currency_name': 'British Pound', 'location': 'United_kingdom'}, '17': {'value': '10 Pence', 'currency_name': 'British Pound', 'location': 'United_kingdom'}, '18': {'value': '20 Pence', 'currency_name': 'British Pound', 'location': 'United_kingdom'}, '19': {'value': '50 Pence', 'currency_name': 'British Pound', 'location': 'United_kingdom'}, '20': {'value': '1 Pound', 'currency_name': 'British Pound', 'location': 'United_kingdom'}, '21': {'value': '2 Pounds', 'currency_name': 'British Pound', 'location': 'United_kingdom'}, '22': {'value': '1 Cent', 'currency_name': 'Canadian Dollar', 'location': 'Canada'}, '23': {'value': '5 Cents', 'currency_name': 'Canadian Dollar', 'location': 'Canada'}, '24': {'value': '10 Cents', 'currency_name': 'Canadian Dollar', 'location': 'Canada'}, '25': {'value': '25 Cents', 'currency_name': 'Canadian Dollar', 'location': 'Canada'}, '26': {'value': '50 Cents', 'currency_name': 'Canadian Dollar', 'location': 'Canada'}, '27': {'value': '1 Dollar', 'currency_name': 'Canadian Dollar', 'location': 'Canada'}, '28': {'value': '2 Dollars', 'currency_name': 'Canadian Dollar', 'location': 'Canada'}, '29': {'value': '1 Peso', 'currency_name': 'Chilean Peso', 'location': 'Chile'}, '30': {'value': '5 Pesos', 'currency_name': 'Chilean Peso', 'location': 'Chile'}, '31': {'value': '10 Pesos', 'currency_name': 'Chilean Peso', 'location': 'Chile'}, '32': {'value': '50 Pesos', 'currency_name': 'Chilean Peso', 'location': 'Chile'}, '33': {'value': '100 Pesos', 'currency_name': 'Chilean Peso', 'location': 'Chile'}, '34': {'value': '500 Pesos', 'currency_name': 'Chilean Peso', 'location': 'Chile'}, '35': {'value': '1 Jiao', 'currency_name': 'Chinese Yuan Renminbi', 'location': 'China'}, '36': {'value': '5 Jiao', 'currency_name': 'Chinese Yuan Renminbi', 'location': 'China'}, '37': {'value': '1 Yuan', 'currency_name': 'Chinese Yuan Renminbi', 'location': 'China'}, '38': {'value': '10 Hellers', 'currency_name': 'Czech Koruna', 'location': 'Czech_republic'}, '39': {'value': '20 Hellers', 'currency_name': 'Czech Koruna', 'location': 'Czech_republic'}, '40': {'value': '50 Hellers', 'currency_name': 'Czech Koruna', 'location': 'Czech_republic'}, '41': {'value': '1 Koruna', 'currency_name': 'Czech Koruna', 'location': 'Czech_republic'}, '42': {'value': '2 Koruny', 'currency_name': 'Czech Koruna', 'location': 'Czech_republic'}, '43': {'value': '5 Korun', 'currency_name': 'Czech Koruna', 'location': 'Czech_republic'}, '44': {'value': '10 Korun', 'currency_name': 'Czech Koruna', 'location': 'Czech_republic'}, '45': {'value': '20 Korun', 'currency_name': 'Czech Koruna', 'location': 'Czech_republic'}, '46': {'value': '50 Korun', 'currency_name': 'Czech Koruna', 'location': 'Czech_republic'}, '47': {'value': '25 Ore', 'currency_name': 'Danish Krone', 'location': 'Denmark'}, '48': {'value': '50 Ore', 'currency_name': 'Danish Krone', 'location': 'Denmark'}, '49': {'value': '1 Krone', 'currency_name': 'Danish Krone', 'location': 'Denmark'}, '50': {'value': '2 Kroner', 'currency_name': 'Danish Krone', 'location': 'Denmark'}, '51': {'value': '5 Kroner', 'currency_name': 'Danish Krone', 'location': 'Denmark'}, '52': {'value': '10 Kroner', 'currency_name': 'Danish Krone', 'location': 'Denmark'}, '53': {'value': '20 Kroner', 'currency_name': 'Danish Krone', 'location': 'Denmark'}, '54': {'value': '1 euro Cent', 'currency_name': 'Euro', 'location': 'Spain'}, '55': {'value': '2 euro Cent', 'currency_name': 'Euro', 'location': 'Spain'}, '56': {'value': '5 euro Cent', 'currency_name': 'Euro', 'location': 'Spain'}, '57': {'value': '10 euro Cent', 'currency_name': 'Euro', 'location': 'Spain'}, '58': {'value': '20 euro Cent', 'currency_name': 'Euro', 'location': 'Spain'}, '59': {'value': '50 euro Cent', 'currency_name': 'Euro', 'location': 'Spain'}, '60': {'value': '1 Euro', 'currency_name': 'Euro', 'location': 'Spain'}, '61': {'value': '2 Euro', 'currency_name': 'Euro', 'location': 'Spain'}, '62': {'value': '10 Cents', 'currency_name': 'Hong Kong dollar', 'location': 'Hong_kong'}, '63': {'value': '50 Cents', 'currency_name': 'Hong Kong dollar', 'location': 'Hong_kong'}, '64': {'value': '1 Dollar', 'currency_name': 'Hong Kong dollar', 'location': 'Hong_kong'}, '65': {'value': '2 Dollars', 'currency_name': 'Hong Kong dollar', 'location': 'Hong_kong'}, '66': {'value': '5 Dollars', 'currency_name': 'Hong Kong dollar', 'location': 'Hong_kong'}, '67': {'value': '1 Forint', 'currency_name': 'Hungarian Forint', 'location': 'Hungary'}, '68': {'value': '2 Forint', 'currency_name': 'Hungarian Forint', 'location': 'Hungary'}, '69': {'value': '5 Forint', 'currency_name': 'Hungarian Forint', 'location': 'Hungary'}, '70': {'value': '10 Forint', 'currency_name': 'Hungarian Forint', 'location': 'Hungary'}, '71': {'value': '20 Forint', 'currency_name': 'Hungarian Forint', 'location': 'Hungary'}, '72': {'value': '50 Forint', 'currency_name': 'Hungarian Forint', 'location': 'Hungary'}, '73': {'value': '100 Forint', 'currency_name': 'Hungarian Forint', 'location': 'Hungary'}, '74': {'value': '200 Forint', 'currency_name': 'Hungarian Forint', 'location': 'Hungary'}, '75': {'value': '25 Paise', 'currency_name': 'Indian Rupee', 'location': 'India'}, '76': {'value': '50 Paise', 'currency_name': 'Indian Rupee', 'location': 'India'}, '77': {'value': '1 Rupee', 'currency_name': 'Indian Rupee', 'location': 'India'}, '78': {'value': '2 Rupees', 'currency_name': 'Indian Rupee', 'location': 'India'}, '79': {'value': '5 Rupees', 'currency_name': 'Indian Rupee', 'location': 'India'}, '80': {'value': '10 Rupees', 'currency_name': 'Indian Rupee', 'location': 'India'}, '81': {'value': '50 Rupiah', 'currency_name': 'Indonesian Rupiah', 'location': 'Indonesia'}, '82': {'value': '100 Rupiah', 'currency_name': 'Indonesian Rupiah', 'location': 'Indonesia'}, '83': {'value': '200 Rupiah', 'currency_name': 'Indonesian Rupiah', 'location': 'Indonesia'}, '84': {'value': '500 Rupiah', 'currency_name': 'Indonesian Rupiah', 'location': 'Indonesia'}, '85': {'value': '1000 Rupiah', 'currency_name': 'Indonesian Rupiah', 'location': 'Indonesia'}, '86': {'value': '5 Agorot', 'currency_name': 'Israeli New Shekel', 'location': 'Israel'}, '87': {'value': '10 Agorot', 'currency_name': 'Israeli New Shekel', 'location': 'Israel'}, '88': {'value': '1 2 New Sheqel', 'currency_name': 'Israeli New Shekel', 'location': 'Israel'}, '89': {'value': '1 New Sheqel', 'currency_name': 'Israeli New Shekel', 'location': 'Israel'}, '90': {'value': '2 New Sheqalim', 'currency_name': 'Israeli New Shekel', 'location': 'Israel'}, '91': {'value': '5 New Sheqalim', 'currency_name': 'Israeli New Shekel', 'location': 'Israel'}, '92': {'value': '10 New Sheqalim', 'currency_name': 'Israeli New Shekel', 'location': 'Israel'}, '93': {'value': '1 Yen', 'currency_name': 'Japanese Yen', 'location': 'Japan'}, '94': {'value': '5 Yen', 'currency_name': 'Japanese Yen', 'location': 'Japan'}, '95': {'value': '10 Yen', 'currency_name': 'Japanese Yen', 'location': 'Japan'}, '96': {'value': '50 Yen', 'currency_name': 'Japanese Yen', 'location': 'Japan'}, '97': {'value': '100 Yen', 'currency_name': 'Japanese Yen', 'location': 'Japan'}, '98': {'value': '500 Yen', 'currency_name': 'Japanese Yen', 'location': 'Japan'}, '99': {'value': '1 Won', 'currency_name': 'Korean Won', 'location': 'South_korea'}, '100': {'value': '5 Won', 'currency_name': 'Korean Won', 'location': 'South_korea'}, '101': {'value': '10 Won', 'currency_name': 'Korean Won', 'location': 'South_korea'}, '102': {'value': '50 Won', 'currency_name': 'Korean Won', 'location': 'South_korea'}, '103': {'value': '100 Won', 'currency_name': 'Korean Won', 'location': 'South_korea'}, '104': {'value': '500 Won', 'currency_name': 'Korean Won', 'location': 'South_korea'}, '105': {'value': '1 Sen', 'currency_name': 'Malaysian Ringgit', 'location': 'Malaysia'}, '106': {'value': '5 Sen', 'currency_name': 'Malaysian Ringgit', 'location': 'Malaysia'}, '107': {'value': '10 Sen', 'currency_name': 'Malaysian Ringgit', 'location': 'Malaysia'}, '108': {'value': '20 Sen', 'currency_name': 'Malaysian Ringgit', 'location': 'Malaysia'}, '109': {'value': '50 Sen', 'currency_name': 'Malaysian Ringgit', 'location': 'Malaysia'}, '110': {'value': '5 Centavos', 'currency_name': 'Mexican peso', 'location': 'Mexico'}, '111': {'value': '10 Centavos', 'currency_name': 'Mexican peso', 'location': 'Mexico'}, '112': {'value': '20 Centavos', 'currency_name': 'Mexican peso', 'location': 'Mexico'}, '113': {'value': '50 Centavos', 'currency_name': 'Mexican peso', 'location': 'Mexico'}, '114': {'value': '1 Peso', 'currency_name': 'Mexican peso', 'location': 'Mexico'}, '115': {'value': '2 Pesos', 'currency_name': 'Mexican peso', 'location': 'Mexico'}, '116': {'value': '5 Pesos', 'currency_name': 'Mexican peso', 'location': 'Mexico'}, '117': {'value': '10 Pesos', 'currency_name': 'Mexican peso', 'location': 'Mexico'}, '118': {'value': '5 Cents', 'currency_name': 'New Zealand dollar', 'location': 'New_zealand'}, '119': {'value': '10 Cents', 'currency_name': 'New Zealand dollar', 'location': 'New_zealand'}, '120': {'value': '20 Cents', 'currency_name': 'New Zealand dollar', 'location': 'New_zealand'}, '121': {'value': '50 Cents', 'currency_name': 'New Zealand dollar', 'location': 'New_zealand'}, '122': {'value': '1 Dollar', 'currency_name': 'New Zealand dollar', 'location': 'New_zealand'}, '123': {'value': '2 Dollars', 'currency_name': 'New Zealand dollar', 'location': 'New_zealand'}, '124': {'value': '50 Ore', 'currency_name': 'Norwegian Krone', 'location': 'Norway'}, '125': {'value': '1 Krone', 'currency_name': 'Norwegian Krone', 'location': 'Norway'}, '126': {'value': '5 Kroner', 'currency_name': 'Norwegian Krone', 'location': 'Norway'}, '127': {'value': '10 Kroner', 'currency_name': 'Norwegian Krone', 'location': 'Norway'}, '128': {'value': '20 Kroner', 'currency_name': 'Norwegian Krone', 'location': 'Norway'}, '129': {'value': '1 Rupee', 'currency_name': 'Pakistan Rupee', 'location': 'Pakistan'}, '130': {'value': '2 Rupees', 'currency_name': 'Pakistan Rupee', 'location': 'Pakistan'}, '131': {'value': '5 Rupees', 'currency_name': 'Pakistan Rupee', 'location': 'Pakistan'}, '132': {'value': '10 Rupees', 'currency_name': 'Pakistan Rupee', 'location': 'Pakistan'}, '133': {'value': '1 Sentimo', 'currency_name': 'Philipine peso', 'location': 'Philippines'}, '134': {'value': '5 Sentimos', 'currency_name': 'Philipine peso', 'location': 'Philippines'}, '135': {'value': '10 Sentimos', 'currency_name': 'Philipine peso', 'location': 'Philippines'}, '136': {'value': '25 Sentimos', 'currency_name': 'Philipine peso', 'location': 'Philippines'}, '137': {'value': '1 Piso', 'currency_name': 'Philipine peso', 'location': 'Philippines'}, '138': {'value': '5 Piso', 'currency_name': 'Philipine peso', 'location': 'Philippines'}, '139': {'value': '10 Piso', 'currency_name': 'Philipine peso', 'location': 'Philippines'}, '140': {'value': '1 Grosz', 'currency_name': 'Polish Zloty', 'location': 'Poland'}, '141': {'value': '2 Grosze', 'currency_name': 'Polish Zloty', 'location': 'Poland'}, '142': {'value': '5 Groszy', 'currency_name': 'Polish Zloty', 'location': 'Poland'}, '143': {'value': '10 Groszy', 'currency_name': 'Polish Zloty', 'location': 'Poland'}, '144': {'value': '20 Groszy', 'currency_name': 'Polish Zloty', 'location': 'Poland'}, '145': {'value': '50 Groszy', 'currency_name': 'Polish Zloty', 'location': 'Poland'}, '146': {'value': '1 Zloty', 'currency_name': 'Polish Zloty', 'location': 'Poland'}, '147': {'value': '2 Zlote', 'currency_name': 'Polish Zloty', 'location': 'Poland'}, '148': {'value': '5 Zlotych', 'currency_name': 'Polish Zloty', 'location': 'Poland'}, '149': {'value': '1 Kopek', 'currency_name': 'Russian Ruble', 'location': 'Russia'}, '150': {'value': '5 Kopeks', 'currency_name': 'Russian Ruble', 'location': 'Russia'}, '151': {'value': '10 Kopeks', 'currency_name': 'Russian Ruble', 'location': 'Russia'}, '152': {'value': '50 Kopeks', 'currency_name': 'Russian Ruble', 'location': 'Russia'}, '153': {'value': '1 Ruble', 'currency_name': 'Russian Ruble', 'location': 'Russia'}, '154': {'value': '2 Rubles', 'currency_name': 'Russian Ruble', 'location': 'Russia'}, '155': {'value': '5 Rubles', 'currency_name': 'Russian Ruble', 'location': 'Russia'}, '156': {'value': '10 Rubles', 'currency_name': 'Russian Ruble', 'location': 'Russia'}, '157': {'value': '1 Cent', 'currency_name': 'Singapore Dollar', 'location': 'Singapore'}, '158': {'value': '5 Cents', 'currency_name': 'Singapore Dollar', 'location': 'Singapore'}, '159': {'value': '10 Cents', 'currency_name': 'Singapore Dollar', 'location': 'Singapore'}, '160': {'value': '20 Cents', 'currency_name': 'Singapore Dollar', 'location': 'Singapore'}, '161': {'value': '50 Cents', 'currency_name': 'Singapore Dollar', 'location': 'Singapore'}, '162': {'value': '1 Dollar', 'currency_name': 'Singapore Dollar', 'location': 'Singapore'}, '163': {'value': '5 Dollars', 'currency_name': 'Singapore Dollar', 'location': 'Singapore'}, '164': {'value': '5 Cents', 'currency_name': 'South African Rand', 'location': 'South_africa'}, '165': {'value': '10 Cents', 'currency_name': 'South African Rand', 'location': 'South_africa'}, '166': {'value': '20 Cents', 'currency_name': 'South African Rand', 'location': 'South_africa'}, '167': {'value': '50 Cents', 'currency_name': 'South African Rand', 'location': 'South_africa'}, '168': {'value': '1 Rand', 'currency_name': 'South African Rand', 'location': 'South_africa'}, '169': {'value': '2 Rand', 'currency_name': 'South African Rand', 'location': 'South_africa'}, '170': {'value': '5 Rand', 'currency_name': 'South African Rand', 'location': 'South_africa'}, '171': {'value': '10 Ore', 'currency_name': 'Swedish Krona', 'location': 'Sweden'}, '172': {'value': '50 Ore', 'currency_name': 'Swedish Krona', 'location': 'Sweden'}, '173': {'value': '1 Krona', 'currency_name': 'Swedish Krona', 'location': 'Sweden'}, '174': {'value': '2 Kronor', 'currency_name': 'Swedish Krona', 'location': 'Sweden'}, '175': {'value': '5 Kronor', 'currency_name': 'Swedish Krona', 'location': 'Sweden'}, '176': {'value': '10 Kronor', 'currency_name': 'Swedish Krona', 'location': 'Sweden'}, '177': {'value': '1 Rappen', 'currency_name': 'Swiss Franc', 'location': 'Switzerland'}, '178': {'value': '5 Rappen', 'currency_name': 'Swiss Franc', 'location': 'Switzerland'}, '179': {'value': '10 Rappen', 'currency_name': 'Swiss Franc', 'location': 'Switzerland'}, '180': {'value': '20 Rappen', 'currency_name': 'Swiss Franc', 'location': 'Switzerland'}, '181': {'value': '1 2 Franc', 'currency_name': 'Swiss Franc', 'location': 'Switzerland'}, '182': {'value': '1 Franc', 'currency_name': 'Swiss Franc', 'location': 'Switzerland'}, '183': {'value': '2 Francs', 'currency_name': 'Swiss Franc', 'location': 'Switzerland'}, '184': {'value': '5 Francs', 'currency_name': 'Swiss Franc', 'location': 'Switzerland'}, '185': {'value': '1 2 Dollar', 'currency_name': 'taiwan Dollar', 'location': 'Taiwan'}, '186': {'value': '1 Dollar', 'currency_name': 'taiwan Dollar', 'location': 'Taiwan'}, '187': {'value': '5 Dollars', 'currency_name': 'taiwan Dollar', 'location': 'Taiwan'}, '188': {'value': '10 Dollars', 'currency_name': 'taiwan Dollar', 'location': 'Taiwan'}, '189': {'value': '20 Dollars', 'currency_name': 'taiwan Dollar', 'location': 'Taiwan'}, '190': {'value': '50 Dollars', 'currency_name': 'taiwan Dollar', 'location': 'Taiwan'}, '191': {'value': '1 Satang', 'currency_name': 'Thai Baht', 'location': 'Thailand'}, '192': {'value': '5 Satang', 'currency_name': 'Thai Baht', 'location': 'Thailand'}, '193': {'value': '10 Satang', 'currency_name': 'Thai Baht', 'location': 'Thailand'}, '194': {'value': '25 Satang', 'currency_name': 'Thai Baht', 'location': 'Thailand'}, '195': {'value': '50 Satang', 'currency_name': 'Thai Baht', 'location': 'Thailand'}, '196': {'value': '1 Baht', 'currency_name': 'Thai Baht', 'location': 'Thailand'}, '197': {'value': '2 Baht', 'currency_name': 'Thai Baht', 'location': 'Thailand'}, '198': {'value': '5 Baht', 'currency_name': 'Thai Baht', 'location': 'Thailand'}, '199': {'value': '10 Baht', 'currency_name': 'Thai Baht', 'location': 'Thailand'}, '200': {'value': '1 Kurus', 'currency_name': 'Turkish Lira', 'location': 'Turkey'}, '201': {'value': '5 Kurus', 'currency_name': 'Turkish Lira', 'location': 'Turkey'}, '202': {'value': '10 Kurus', 'currency_name': 'Turkish Lira', 'location': 'Turkey'}, '203': {'value': '25 Kurus', 'currency_name': 'Turkish Lira', 'location': 'Turkey'}, '204': {'value': '50 Kurus', 'currency_name': 'Turkish Lira', 'location': 'Turkey'}, '205': {'value': '1 Lira', 'currency_name': 'Turkish Lira', 'location': 'Turkey'}, '206': {'value': '1 Cent', 'currency_name': 'US Dollar', 'location': 'Usa'}, '207': {'value': '5 Cents', 'currency_name': 'US Dollar', 'location': 'Usa'}, '208': {'value': '1 Dime', 'currency_name': 'US Dollar', 'location': 'Usa'}, '209': {'value': '1 4 Dollar', 'currency_name': 'US Dollar', 'location': 'Usa'}, '210': {'value': '1 2 Dollar', 'currency_name': 'US Dollar', 'location': 'Usa'}, '211': {'value': '1 Dollar', 'currency_name': 'US Dollar', 'location': 'Usa'}}\n"
     ]
    }
   ],
   "source": [
    "#Vytvoření nové verze souboru se strukturou dat s možností dalšího členění\n",
    "cat_to_name_v2 = {}\n",
    "for key, value in cat_to_name_v1.items():\n",
    "    value_split = value.split(',')\n",
    "    cat_to_name_v2[key] = {\n",
    "        \"value\": value_split[0].strip(),\n",
    "        \"currency_name\": value_split[1].strip(),\n",
    "        \"location\": value_split[2].strip().capitalize()\n",
    "    }\n",
    "\n",
    "with open('data/cat_to_name_v2.json', 'w') as json_file:\n",
    "    json.dump(cat_to_name_v2, json_file, indent=4)\n",
    "\n",
    "print(cat_to_name_v2)"
   ]
  },
  {
   "cell_type": "markdown",
   "metadata": {},
   "source": [
    "Image - Preprocesing"
   ]
  },
  {
   "cell_type": "code",
   "execution_count": null,
   "metadata": {},
   "outputs": [],
   "source": []
  }
 ],
 "metadata": {
  "kernelspec": {
   "display_name": ".venv",
   "language": "python",
   "name": "python3"
  },
  "language_info": {
   "codemirror_mode": {
    "name": "ipython",
    "version": 3
   },
   "file_extension": ".py",
   "mimetype": "text/x-python",
   "name": "python",
   "nbconvert_exporter": "python",
   "pygments_lexer": "ipython3",
   "version": "3.12.4"
  }
 },
 "nbformat": 4,
 "nbformat_minor": 2
}
